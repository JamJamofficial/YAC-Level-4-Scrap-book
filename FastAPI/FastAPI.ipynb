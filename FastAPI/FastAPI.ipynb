{
 "cells": [
  {
   "cell_type": "markdown",
   "id": "978e24b7",
   "metadata": {},
   "source": [
    "## Fast API basics"
   ]
  },
  {
   "cell_type": "code",
   "execution_count": null,
   "id": "b6c124af",
   "metadata": {},
   "outputs": [
    {
     "name": "stdout",
     "output_type": "stream",
     "text": [
      "John Doe\n"
     ]
    }
   ],
   "source": [
    "def get_full_name(first_name, last_name):\n",
    "    full_name = first_name.title() + \" \" + last_name.title()\n",
    "    return full_name\n",
    "\n",
    "print(get_full_name(\"john\", \"doe\")) \n",
    "\n",
    "# the .title makes the first letters# of the first and last name uppercase"
   ]
  },
  {
   "cell_type": "code",
   "execution_count": null,
   "id": "6bd6dbc6",
   "metadata": {},
   "outputs": [
    {
     "name": "stdout",
     "output_type": "stream",
     "text": [
      "John Doe\n"
     ]
    }
   ],
   "source": [
    "def get_full_name(first_name:str, last_name:str):\n",
    "    full_name = first_name.title() + \" \" + last_name.title()\n",
    "    return full_name\n",
    "\n",
    "print(get_full_name(\"john\", \"doe\")) \n",
    "\n",
    "# the .title makes the first character of the first and last name uppercase"
   ]
  }
 ],
 "metadata": {
  "kernelspec": {
   "display_name": "Python 3",
   "language": "python",
   "name": "python3"
  },
  "language_info": {
   "codemirror_mode": {
    "name": "ipython",
    "version": 3
   },
   "file_extension": ".py",
   "mimetype": "text/x-python",
   "name": "python",
   "nbconvert_exporter": "python",
   "pygments_lexer": "ipython3",
   "version": "3.12.3"
  }
 },
 "nbformat": 4,
 "nbformat_minor": 5
}
