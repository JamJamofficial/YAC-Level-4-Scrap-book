{
 "cells": [
  {
   "cell_type": "markdown",
   "id": "060ae09e",
   "metadata": {},
   "source": [
    "## Fast API Set UP\n",
    "\n",
    "- How do you create a directory?\n",
    "\n",
    "    By using the mkdir command in  a terminal or by doing it manually by creating a folder in a file manager.\n",
    "\n",
    "- How do you create a virtual enironment and why do you need it? \n",
    "\n",
    "    To make a virtual environment using python you use the command \"python -m venv /path/to/new/virtual/environment\". this is needed to separate the packages in your application from the rest of your files.\n",
    "\n",
    "- How do you activate the virtual environment?\n",
    "\n",
    "    By using the command \"\\venv\\Scripts\\activate\" in a terminal\n",
    "    \n",
    "- How do you run your fastapi app using urvicorn?\n",
    "\n",
    "    By using the command \"uvicorn main:app --reload\" in a terminal\n",
    "\n",
    "- Explain how you will create get, post, put and delete endpoins and what do they do?\n",
    "\n",
    "    GET: This retrieves data from a server. \n",
    "\n",
    "    POST: This submits data to the server to create a new resource. \n",
    "    \n",
    "    PUT: This updates an existing resource on the server. \n",
    "\n",
    "    DELETE: This removes a resource from the server. \n",
    "        \n",
    "\n",
    "## What does the following commands do?\n",
    "\n",
    "- mkdir, :  Creates a directory\n",
    "- md, : creates a directory\n",
    "- dir : shows contents of current directory\n",
    "- cd : changes directory\n",
    "- cd .. : goes back in the current directory \n",
    "- cd - : returns to the last directory \n",
    "- msg : send a message\n",
    "- ftp : file transfer protocol and \n",
    "- notepad main.py : opens a file in the notepad. in this case main.py\n",
    "- dir *.txt : highlights files with the txt extension \n",
    "- dir read *.txt : gives more detail about files . in this case with the txt extension\n",
    "- dir /x : display a list of files and their subdirectories \n",
    "- cd\\ : changes to root directory \n",
    "- chdir C:  : changes directory. in this case to the c: drive\n",
    "\n",
    "Why will you use --reload while running your fastapi app?\n",
    "\n",
    "    Using --reload while running your fastapi app makes sure that your project showcases live changes in the client."
   ]
  }
 ],
 "metadata": {
  "language_info": {
   "name": "python"
  }
 },
 "nbformat": 4,
 "nbformat_minor": 5
}
