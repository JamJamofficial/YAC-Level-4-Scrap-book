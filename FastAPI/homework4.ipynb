{
 "cells": [
  {
   "cell_type": "markdown",
   "id": "9100bf27",
   "metadata": {},
   "source": [
    "## Build a simple FastAPI application that uses pydantic in path operations. You are not allowed to use ChatGPT or any other generative AI but you can use docummentations and other sources and make sure you cite those sources."
   ]
  },
  {
   "cell_type": "code",
   "execution_count": null,
   "id": "29c32cda",
   "metadata": {},
   "outputs": [],
   "source": [
    "from fastapi import FastAPI\n",
    "from pydantic import BaseModel\n",
    "\n",
    "app = FastAPI()\n",
    "\n",
    "class User(BaseModel):\n",
    "    id: int\n",
    "    name: str\n",
    "    email: str\n",
    "\n",
    "users = {}\n",
    "\n",
    "@app.post(\"/users/\")\n",
    "def create_user(user: User):\n",
    "    users[user.id] = user\n",
    "    return {\"message\": \"User created\", \"user\": user}\n",
    "\n",
    "@app.get(\"/users/{user_id}\")\n",
    "def get_user(user_id: int):\n",
    "    user = users.get(user_id)\n",
    "    if user:\n",
    "        return user\n",
    "    return {\"error\": \"User not found\"}\n"
   ]
  },
  {
   "cell_type": "markdown",
   "id": "dde8ecce",
   "metadata": {},
   "source": [
    "## Sources:\n",
    "\n",
    "FastAPI Documentation – First Steps\n",
    "https://fastapi.tiangolo.com/tutorial/first-steps/\n",
    "\n",
    "FastAPI Docs – Request Body with Pydantic\n",
    "https://fastapi.tiangolo.com/tutorial/body/\n",
    "\n",
    "Pydantic Documentation\n",
    "https://docs.pydantic.dev/\n",
    "\n",
    "\n",
    "\n",
    "This porject uses requests such as post and get which are documented by pydantic "
   ]
  }
 ],
 "metadata": {
  "language_info": {
   "name": "python"
  }
 },
 "nbformat": 4,
 "nbformat_minor": 5
}
