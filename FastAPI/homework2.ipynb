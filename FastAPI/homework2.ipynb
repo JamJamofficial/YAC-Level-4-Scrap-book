{
 "cells": [
  {
   "cell_type": "markdown",
   "id": "d2e99f38",
   "metadata": {},
   "source": [
    "## Use fastapi to build a simple application that fulfil the following condtions:\n",
    "\n",
    "{item_id} in the URL defines a path parameter. FastAPI automatically converts it to the specified type hint (int).\n",
    "For POST and PUT requests, FastAPI automatically expects a JSON request body and makes it available as an argument to your function.Feel free to use this website for help https://fastapi.tiangolo.com/tutorial/."
   ]
  },
  {
   "cell_type": "code",
   "execution_count": 1,
   "id": "bece9dcd",
   "metadata": {},
   "outputs": [],
   "source": [
    "from fastapi import FastAPI\n",
    "from pydantic import BaseModel\n",
    "\n",
    "app = FastAPI()\n",
    "\n",
    "class Item(BaseModel):\n",
    "    name: str\n",
    "    price: float\n",
    "    is_offer: bool = None\n",
    "\n",
    "@app.get(\"/items/{item_id}\")\n",
    "def read_item(item_id: int):\n",
    "    return {\"item_id\": item_id}\n",
    "\n",
    "@app.post(\"/items/\")\n",
    "def create_item(item: Item):\n",
    "    return item\n",
    "\n",
    "@app.put(\"/items/{item_id}\")\n",
    "def update_item(item_id: int, item: Item):\n",
    "    return {\"item_id\": item_id, \"item\": item}\n",
    "\n",
    "@app.delete(\"/items/{item_id}\")\n",
    "def delete_item(item_id: int):\n",
    "    return {\"item_id\": item_id, \"message\": \"Item deleted\"}\n"
   ]
  }
 ],
 "metadata": {
  "kernelspec": {
   "display_name": "Python 3",
   "language": "python",
   "name": "python3"
  },
  "language_info": {
   "codemirror_mode": {
    "name": "ipython",
    "version": 3
   },
   "file_extension": ".py",
   "mimetype": "text/x-python",
   "name": "python",
   "nbconvert_exporter": "python",
   "pygments_lexer": "ipython3",
   "version": "3.12.3"
  }
 },
 "nbformat": 4,
 "nbformat_minor": 5
}
