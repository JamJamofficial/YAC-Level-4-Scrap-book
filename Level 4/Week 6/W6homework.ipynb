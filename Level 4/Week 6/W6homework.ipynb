{
 "cells": [
  {
   "cell_type": "markdown",
   "metadata": {},
   "source": [
    "Homework Task: \n",
    "\n",
    "Create an image of 200 by 200 and draw a square with white colour and an area of 250 squared unit using NumPy and matplotlib.  Visualise your work and submit the jupyter notebook"
   ]
  },
  {
   "cell_type": "markdown",
   "metadata": {},
   "source": [
    "In the code below using the NumPy and matplotlib libraries I created and centred the image of a white square on a black background with the title \"Image\"."
   ]
  },
  {
   "cell_type": "code",
   "execution_count": 2,
   "metadata": {},
   "outputs": [
    {
     "data": {
      "image/png": "[encoded data removed]",
      "text/plain": [
       "<Figure size 640x480 with 1 Axes>"
      ]
     },
     "metadata": {},
     "output_type": "display_data"
    }
   ],
   "source": [
    "import numpy as np\n",
    "import matplotlib.pyplot as plt\n",
    "\n",
    "# Create a 200x200 black image\n",
    "image = np.zeros((200, 200))\n",
    "\n",
    "# Calculate the side length of the square (Area = side^2)\n",
    "square_side = int(np.sqrt(250))  # Side length of the square\n",
    "\n",
    "# Find the center position to place the square\n",
    "center_x, center_y = 100, 100  # Center of the image\n",
    "half_side = square_side // 2\n",
    "\n",
    "# Define square boundaries\n",
    "top_left_x, top_left_y = center_x - half_side, center_y - half_side\n",
    "bottom_right_x, bottom_right_y = top_left_x + square_side, top_left_y + square_side\n",
    "\n",
    "# Draw the white square (set pixel values to 1)\n",
    "image[top_left_y:bottom_right_y, top_left_x:bottom_right_x] = 1\n",
    "\n",
    "# Display the image\n",
    "plt.imshow(image, cmap='gray')\n",
    "plt.title(\"Image\")\n",
    "plt.axis(\"off\")\n",
    "plt.show()\n"
   ]
  }
 ],
 "metadata": {
  "kernelspec": {
   "display_name": "Python 3",
   "language": "python",
   "name": "python3"
  },
  "language_info": {
   "codemirror_mode": {
    "name": "ipython",
    "version": 3
   },
   "file_extension": ".py",
   "mimetype": "text/x-python",
   "name": "python",
   "nbconvert_exporter": "python",
   "pygments_lexer": "ipython3",
   "version": "3.12.3"
  }
 },
 "nbformat": 4,
 "nbformat_minor": 2
}
