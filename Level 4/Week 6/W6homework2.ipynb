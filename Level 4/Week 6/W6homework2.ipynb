{
 "cells": [
  {
   "cell_type": "markdown",
   "metadata": {},
   "source": [
    "Homework Task: \n",
    "\n",
    "Build a calculator that is very efficient by relying on numpy. Cover as many operations as possible. \n"
   ]
  },
  {
   "cell_type": "markdown",
   "metadata": {},
   "source": [
    "In the code below the user is asked for their input (the first number in their desired equation) secondly they are asked for an action/operand (for example add subtract divide) lastly they are asked for their input (the last number in their desired equation as it can only take two arguments.) the program then uses a set of given numpy functions to complete the calculation."
   ]
  },
  {
   "cell_type": "code",
   "execution_count": null,
   "metadata": {},
   "outputs": [],
   "source": [
    "import numpy as np\n",
    "\n",
    "def calculator(operation, *args):\n",
    "    operations = {\n",
    "        'add': np.sum,\n",
    "        'subtract': np.subtract,\n",
    "        'multiply': np.prod,\n",
    "        'divide': np.divide,\n",
    "        'power': np.power,\n",
    "        'sqrt': np.sqrt,\n",
    "        'log': np.log,\n",
    "        'exp': np.exp,\n",
    "        'sin': np.sin,\n",
    "        'cos': np.cos,\n",
    "        'tan': np.tan,\n",
    "        'absolute': np.abs,\n",
    "        'mean': np.mean,\n",
    "        'median': np.median,\n",
    "        'std': np.std,\n",
    "        'var': np.var,\n",
    "        'max': np.max,\n",
    "        'min': np.min,\n",
    "    }\n",
    "    \n",
    "    if operation in operations:\n",
    "        return operations[operation](*args)\n",
    "    else:\n",
    "        return \"Operation not supported.\"\n",
    "\n",
    "# User Input\n",
    "while True:\n",
    "    operation = input(\"Enter operation (add, subtract, multiply, divide, power, sqrt, log, exp, sin, cos, tan, absolute, mean, median, std, var, max, min) or 'exit' to quit: \").strip().lower()\n",
    "    if operation == 'exit':\n",
    "        break\n",
    "    \n",
    "    try:\n",
    "        numbers = list(map(float, input(\"Enter numbers separated by spaces: \").split()))\n",
    "        result = calculator(operation, numbers)\n",
    "        print(f\"Result: {result}\\n\")\n",
    "    except Exception as e:\n",
    "        print(f\"Error: {e}. Please try again.\\n\")\n"
   ]
  }
 ],
 "metadata": {
  "kernelspec": {
   "display_name": "Python 3",
   "language": "python",
   "name": "python3"
  },
  "language_info": {
   "codemirror_mode": {
    "name": "ipython",
    "version": 3
   },
   "file_extension": ".py",
   "mimetype": "text/x-python",
   "name": "python",
   "nbconvert_exporter": "python",
   "pygments_lexer": "ipython3",
   "version": "3.12.3"
  }
 },
 "nbformat": 4,
 "nbformat_minor": 2
}
