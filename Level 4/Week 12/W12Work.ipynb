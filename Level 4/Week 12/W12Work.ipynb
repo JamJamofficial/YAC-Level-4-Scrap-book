{
 "cells": [
  {
   "cell_type": "markdown",
   "id": "87d8fd32",
   "metadata": {},
   "source": [
    "## Using different methods to present data."
   ]
  },
  {
   "cell_type": "code",
   "execution_count": null,
   "id": "2b1fefb2",
   "metadata": {},
   "outputs": [],
   "source": [
    "import pandas as pd\n",
    "\n",
    "def create_people_df():\n",
    "    data = {\n",
    "        'name': ['Alice', 'Bob', 'Charlie', 'David'],\n",
    "        'age': [25, 30, 35, 40],\n",
    "        'city': ['New York', 'Los Angeles', 'Chicago', 'Houston']\n",
    "    }\n",
    "    \n",
    "    df = pd.DataFrame(data)\n",
    "    return df"
   ]
  },
  {
   "cell_type": "markdown",
   "id": "29c97e66",
   "metadata": {},
   "source": [
    "Using Histograms"
   ]
  },
  {
   "cell_type": "code",
   "execution_count": null,
   "id": "0664c726",
   "metadata": {},
   "outputs": [],
   "source": [
    "from matplotlib import pyplot as plt\n",
    "\n",
    "\n",
    "def main():\n",
    "    df = create_people_df()\n",
    "    print(\"DataFrame:\")\n",
    "    print(df)\n",
    "    \n",
    "    # Displaying the DataFrame as a histogram\n",
    "    df['age'].plot(kind='hist', title='Age Distribution', bins=5)\n",
    "    plt.xlabel('Age')\n",
    "    plt.ylabel('Frequency')\n",
    "    plt.show()"
   ]
  }
 ],
 "metadata": {
  "kernelspec": {
   "display_name": "Python 3",
   "language": "python",
   "name": "python3"
  },
  "language_info": {
   "codemirror_mode": {
    "name": "ipython",
    "version": 3
   },
   "file_extension": ".py",
   "mimetype": "text/x-python",
   "name": "python",
   "nbconvert_exporter": "python",
   "pygments_lexer": "ipython3",
   "version": "3.12.3"
  }
 },
 "nbformat": 4,
 "nbformat_minor": 5
}
