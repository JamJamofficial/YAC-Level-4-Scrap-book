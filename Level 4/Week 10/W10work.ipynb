{
 "cells": [
  {
   "cell_type": "markdown",
   "id": "e270c4f0",
   "metadata": {},
   "source": [
    "## Using created imports and pandas"
   ]
  },
  {
   "cell_type": "code",
   "execution_count": null,
   "id": "a0a2f2fe",
   "metadata": {},
   "outputs": [
    {
     "name": "stdout",
     "output_type": "stream",
     "text": [
      "a    10\n",
      "b    20\n",
      "c    30\n",
      "d    40\n",
      "dtype: int64\n"
     ]
    }
   ],
   "source": [
    "import pandas as pd # import pandas library\n",
    "\n",
    "# create series with values and custom index labels\n",
    "s = pd.Series([10, 20, 30, 40], index=['a', 'b', 'c', 'd'])\n",
    "# output the series\n",
    "print(s)"
   ]
  },
  {
   "cell_type": "markdown",
   "id": "8e9eafcd",
   "metadata": {},
   "source": [
    "## Data frame / cleaning \n",
    "A dataframe is a 2D, size-mutable, potentially heterogenous tabular data structure with labelled axes. It resembles a spreadsheet or SQL table."
   ]
  },
  {
   "cell_type": "code",
   "execution_count": 14,
   "id": "dcd4d8de",
   "metadata": {},
   "outputs": [
    {
     "name": "stdout",
     "output_type": "stream",
     "text": [
      "          Name  Matches  Assists  Goals  Points  Trophies  Age\n",
      "0        Messi      100       25      5      30         1   25\n",
      "1          CR7      200       30     10      40         2   30\n",
      "2  Cole Palmer      300       35     15      50         3   35\n",
      "3  Bukayo Saka      400       40     20      60         4   40\n",
      "4     Rashford      500       45     25      70         5   45\n"
     ]
    },
    {
     "data": {
      "text/plain": [
       "np.int64(5)"
      ]
     },
     "execution_count": 14,
     "metadata": {},
     "output_type": "execute_result"
    }
   ],
   "source": [
    "import pandas as pd # import pandas library\n",
    "\n",
    "# Define a dictionary with custom sample data\n",
    "data = {\n",
    "    'Name': ['Messi', 'CR7', 'Cole Palmer', 'Bukayo Saka', 'Rashford'],\n",
    "    'Matches': [100, 200, 300, 400, 500],\n",
    "    'Assists': [25, 30, 35, 40, 45],\n",
    "    'Goals': [5, 10, 15, 20, 25],\n",
    "    'Points': [30, 40, 50, 60, 70],\n",
    "    'Trophies': [1, 2, 3, 4, 5],\n",
    "    'Age': [25, 30, 35, 40, 45],\n",
    "}\n",
    "# Create a DataFrame using the sample data\n",
    "df = pd.DataFrame(data)\n",
    "# Output the DataFrame\n",
    "print(df)\n",
    "\n",
    "df[['Name','Trophies']]\n",
    "\n",
    "df.loc[0, 'Goals']"
   ]
  }
 ],
 "metadata": {
  "kernelspec": {
   "display_name": "Python 3",
   "language": "python",
   "name": "python3"
  },
  "language_info": {
   "codemirror_mode": {
    "name": "ipython",
    "version": 3
   },
   "file_extension": ".py",
   "mimetype": "text/x-python",
   "name": "python",
   "nbconvert_exporter": "python",
   "pygments_lexer": "ipython3",
   "version": "3.12.3"
  }
 },
 "nbformat": 4,
 "nbformat_minor": 5
}
