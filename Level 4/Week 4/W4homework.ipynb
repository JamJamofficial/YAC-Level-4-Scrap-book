{
 "cells": [
  {
   "cell_type": "code",
   "execution_count": null,
   "metadata": {},
   "outputs": [],
   "source": [
    "class YAC:\n",
    "    def __init__(self, data):\n",
    "        if not isinstance(data, (list, tuple)):\n",
    "            raise TypeError(\"Data should be a list or tuple\")\n",
    "        self.data = list(data)\n",
    "    \n",
    "    def min(self):\n",
    "        return min(self.data)\n",
    "    \n",
    "    def max(self):\n",
    "        return max(self.data)\n",
    "    \n",
    "    def mean(self):\n",
    "        return sum(self.data) / len(self.data) if self.data else 0\n",
    "    \n",
    "    def sum(self):\n",
    "        return sum(self.data)\n",
    "\n"
   ]
  },
  {
   "cell_type": "markdown",
   "metadata": {},
   "source": [
    "The code abvove defines the functions that YAC would do when it is called."
   ]
  },
  {
   "cell_type": "code",
   "execution_count": 4,
   "metadata": {},
   "outputs": [
    {
     "name": "stdout",
     "output_type": "stream",
     "text": [
      "Min: 1\n",
      "Max: 5\n",
      "Mean: 3.0\n",
      "Sum: 15\n"
     ]
    }
   ],
   "source": [
    "class YAC:\n",
    "    def __init__(self, data):\n",
    "        if not isinstance(data, (list, tuple)):\n",
    "            raise TypeError(\"Data should be a list or tuple\")\n",
    "        self.data = list(data)\n",
    "    \n",
    "    def min(self):\n",
    "        return min(self.data)\n",
    "    \n",
    "    def max(self):\n",
    "        return max(self.data)\n",
    "    \n",
    "    def mean(self):\n",
    "        return sum(self.data) / len(self.data) if self.data else 0\n",
    "    \n",
    "    def sum(self):\n",
    "        return sum(self.data)\n",
    "\n",
    "\n",
    "\n",
    "yac_array = YAC([1, 2, 3, 4, 5])\n",
    "print(\"Min:\", yac_array.min())\n",
    "print(\"Max:\", yac_array.max())\n",
    "print(\"Mean:\", yac_array.mean())\n",
    "print(\"Sum:\", yac_array.sum())\n"
   ]
  },
  {
   "cell_type": "markdown",
   "metadata": {},
   "source": [
    "The above Markdown is an example of its useage"
   ]
  }
 ],
 "metadata": {
  "kernelspec": {
   "display_name": "Python 3",
   "language": "python",
   "name": "python3"
  },
  "language_info": {
   "codemirror_mode": {
    "name": "ipython",
    "version": 3
   },
   "file_extension": ".py",
   "mimetype": "text/x-python",
   "name": "python",
   "nbconvert_exporter": "python",
   "pygments_lexer": "ipython3",
   "version": "3.12.3"
  }
 },
 "nbformat": 4,
 "nbformat_minor": 2
}
