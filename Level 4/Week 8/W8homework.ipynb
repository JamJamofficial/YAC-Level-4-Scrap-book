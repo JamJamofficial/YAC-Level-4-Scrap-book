{
 "cells": [
  {
   "cell_type": "code",
   "execution_count": 6,
   "id": "b856ebdb",
   "metadata": {},
   "outputs": [
    {
     "name": "stdout",
     "output_type": "stream",
     "text": [
      "Original DataFrame:\n",
      "      name  age  weight         city      hobby\n",
      "0    Alice   25    55.5     New York    Reading\n",
      "1      Bob   30    70.0  Los Angeles  Traveling\n",
      "2  Charlie   35    80.0      Chicago   Outdoors\n",
      "3    David   40    90.0      Houston     Gaming\n"
     ]
    }
   ],
   "source": [
    "import pandas as pd\n",
    "\n",
    "data = {\n",
    "    'name': ['Alice', 'Bob', 'Charlie', 'David'],\n",
    "    'age': [25, 30, 35, 40],\n",
    "    'weight': [55.5, 70.0, 80.0, 90.0],\n",
    "    'city': ['New York', 'Los Angeles', 'Chicago', 'Houston'],\n",
    "    'hobby': ['Reading', 'Traveling', 'Outdoors', 'Gaming'],\n",
    "}\n",
    "\n",
    "df = pd.DataFrame(data)\n",
    "\n",
    "print(\"Original DataFrame:\")\n",
    "print(df)\n",
    "df.to_csv('data.csv', index=False)"
   ]
  }
 ],
 "metadata": {
  "kernelspec": {
   "display_name": "Python 3",
   "language": "python",
   "name": "python3"
  },
  "language_info": {
   "codemirror_mode": {
    "name": "ipython",
    "version": 3
   },
   "file_extension": ".py",
   "mimetype": "text/x-python",
   "name": "python",
   "nbconvert_exporter": "python",
   "pygments_lexer": "ipython3",
   "version": "3.12.3"
  }
 },
 "nbformat": 4,
 "nbformat_minor": 5
}
