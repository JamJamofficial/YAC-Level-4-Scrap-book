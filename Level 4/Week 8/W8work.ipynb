{
 "cells": [
  {
   "cell_type": "markdown",
   "id": "5daec83d",
   "metadata": {},
   "source": [
    "## Working with pandas library and JSON Web Tokens (data analysis/ manipulation)\n",
    "\n",
    "## Why use pandas\n",
    " - Handles large datasets effeiciently\n",
    " - Provides easy-to-use data structures and data manipulation tools\n",
    " - Supports JSON data and can convert it to pandas dataframes\n",
    " - Provides various functions to perform various data analysis tasks\n",
    " - Can handle missing values and perform imputation\n",
    " - Can merge, join, and aggregate data\n",
    "\n",
    "## What is a Series?\n",
    " - A Series is a one-dimensional labeled array capable of holding any data type (integers, strings, floating point numbers, etc.)\n",
    " - Can be created from a list or array\n",
    " - Indexing is similar to an array type with a single element and can be used to index into a single array"
   ]
  },
  {
   "cell_type": "code",
   "execution_count": 1,
   "id": "9d9ef0a2",
   "metadata": {},
   "outputs": [
    {
     "name": "stdout",
     "output_type": "stream",
     "text": [
      "a    1\n",
      "b    2\n",
      "c    3\n",
      "d    4\n",
      "dtype: int64\n"
     ]
    }
   ],
   "source": [
    "# Example of a series\n",
    "\n",
    "import pandas as pd\n",
    "\n",
    "# Create a series from a list\n",
    "\n",
    "s = pd.Series([1, 2, 3, 4], index=['a', 'b', 'c', 'd'])\n",
    "\n",
    "# Output the series\n",
    "\n",
    "print(s)"
   ]
  },
  {
   "cell_type": "code",
   "execution_count": 8,
   "id": "6b5e7bbd",
   "metadata": {},
   "outputs": [
    {
     "name": "stdout",
     "output_type": "stream",
     "text": [
      "    Name  Age      City\n",
      "a   John   25  New York\n",
      "b   Anna   30     Paris\n",
      "c  Peter   28    London\n",
      "d  Linda   35     Tokyo\n"
     ]
    }
   ],
   "source": [
    "# Define a dictionary with sample data\n",
    "\n",
    "data = {\n",
    "    'Name': ['John', 'Anna', 'Peter', 'Linda'],\n",
    "    'Age': [25, 30, 28, 35],\n",
    "    'City': ['New York', 'Paris', 'London', 'Tokyo']\n",
    "}\n",
    "\n",
    "# Create a DataFrame from the dictionary\n",
    "df = pd.DataFrame(data, index=['a', 'b', 'c', 'd',])\n",
    "\n",
    "# Output the DataFrame\n",
    "\n",
    "print(df)\n",
    "\n",
    "# save as csv\n",
    "\n",
    "df.to_csv('sample.csv')\n",
    "\n"
   ]
  }
 ],
 "metadata": {
  "kernelspec": {
   "display_name": "Python 3",
   "language": "python",
   "name": "python3"
  },
  "language_info": {
   "codemirror_mode": {
    "name": "ipython",
    "version": 3
   },
   "file_extension": ".py",
   "mimetype": "text/x-python",
   "name": "python",
   "nbconvert_exporter": "python",
   "pygments_lexer": "ipython3",
   "version": "3.12.3"
  }
 },
 "nbformat": 4,
 "nbformat_minor": 5
}
