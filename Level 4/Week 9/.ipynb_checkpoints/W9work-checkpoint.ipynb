{
 "cells": [
  {
   "cell_type": "markdown",
   "id": "c11925ce",
   "metadata": {},
   "source": [
    "## Revision over what we did so far "
   ]
  },
  {
   "cell_type": "markdown",
   "id": "4c0078d1",
   "metadata": {},
   "source": [
    "Personalised structure"
   ]
  },
  {
   "cell_type": "code",
   "execution_count": 8,
   "id": "be64e6b6",
   "metadata": {},
   "outputs": [],
   "source": [
    "class Jomiloju:\n",
    "    def __init__(Jomiloju, name, age):\n",
    "        Jomiloju.name = name\n",
    "        Jomiloju.age = age\n",
    "\n",
    "    def greet(Jomiloju):\n",
    "        print(f\"Hello, my name is {Jomiloju.name} and I am {Jomiloju.age} years old.\")"
   ]
  },
  {
   "cell_type": "markdown",
   "id": "d7931e0b",
   "metadata": {},
   "source": [
    "using default structure"
   ]
  },
  {
   "cell_type": "code",
   "execution_count": 9,
   "id": "5fc3045c",
   "metadata": {},
   "outputs": [],
   "source": [
    "class self:\n",
    "    def __init__(self, name, age):\n",
    "        self.name = name\n",
    "        self.age = age\n",
    "\n",
    "    def greet(self):\n",
    "        print(f\"Hello, my name is {self.name} and I am {self.age} years old.\")"
   ]
  },
  {
   "cell_type": "markdown",
   "id": "4ec6c807",
   "metadata": {},
   "source": [
    "## Making our own imports"
   ]
  },
  {
   "cell_type": "code",
   "execution_count": 3,
   "id": "25af843e",
   "metadata": {},
   "outputs": [
    {
     "ename": "AttributeError",
     "evalue": "module 'MonkeyData' has no attribute 'Monkey'",
     "output_type": "error",
     "traceback": [
      "\u001b[1;31m---------------------------------------------------------------------------\u001b[0m",
      "\u001b[1;31mAttributeError\u001b[0m                            Traceback (most recent call last)",
      "Cell \u001b[1;32mIn[3], line 3\u001b[0m\n\u001b[0;32m      1\u001b[0m \u001b[38;5;28;01mimport\u001b[39;00m\u001b[38;5;250m \u001b[39m\u001b[38;5;21;01mMonkeyData\u001b[39;00m\u001b[38;5;250m \u001b[39m\u001b[38;5;28;01mas\u001b[39;00m\u001b[38;5;250m \u001b[39m\u001b[38;5;21;01mmd\u001b[39;00m\n\u001b[1;32m----> 3\u001b[0m monkey \u001b[38;5;241m=\u001b[39m \u001b[43mmd\u001b[49m\u001b[38;5;241;43m.\u001b[39;49m\u001b[43mMonkey\u001b[49m\n\u001b[0;32m      5\u001b[0m monkey\u001b[38;5;241m.\u001b[39meat(\u001b[38;5;124m\"\u001b[39m\u001b[38;5;124mbanana\u001b[39m\u001b[38;5;124m\"\u001b[39m)\n",
      "\u001b[1;31mAttributeError\u001b[0m: module 'MonkeyData' has no attribute 'Monkey'"
     ]
    }
   ],
   "source": [
    "import MonkeyData as md\n",
    "\n",
    "monkey = md.Monkey\n",
    "\n",
    "monkey.eat(\"banana\")"
   ]
  }
 ],
 "metadata": {
  "kernelspec": {
   "display_name": "Python 3",
   "language": "python",
   "name": "python3"
  },
  "language_info": {
   "codemirror_mode": {
    "name": "ipython",
    "version": 3
   },
   "file_extension": ".py",
   "mimetype": "text/x-python",
   "name": "python",
   "nbconvert_exporter": "python",
   "pygments_lexer": "ipython3",
   "version": "3.12.3"
  }
 },
 "nbformat": 4,
 "nbformat_minor": 5
}
