{
 "cells": [
  {
   "cell_type": "markdown",
   "id": "8642b101",
   "metadata": {},
   "source": [
    "## Importing modules\n",
    "Demonstration of importing classes and method froms other python files homework"
   ]
  },
  {
   "cell_type": "code",
   "execution_count": 5,
   "id": "b0724418",
   "metadata": {},
   "outputs": [
    {
     "name": "stdout",
     "output_type": "stream",
     "text": [
      "Buddy says: Woof!\n",
      "Luna says: Woof!\n",
      "Area: 78.53981633974483\n",
      "Perimeter: 31.41592653589793\n",
      "Whiskers says: Meow!\n",
      "Tweety says: Chirp!\n",
      "Area: 20\n",
      "Area: 9.0\n",
      "Celsius: 25\n",
      "Fahrenheit: 77.0\n",
      "Updated Celsius: 100\n",
      "Updated Fahrenheit: 212.0\n",
      "Engine started.\n",
      "Charging... Battery at 85%\n",
      "MRO: ['ElectricCar', 'Vehicle', 'Electric', 'object']\n"
     ]
    }
   ],
   "source": [
    "# Import all modules\n",
    "from Dog import Dog\n",
    "from Circle import Circle\n",
    "from Animal import Cat, Bird\n",
    "from AbstractShapes import Rectangle, Triangle\n",
    "from Temperature import Temperature\n",
    "from ElectricCar import ElectricCar"
   ]
  },
  {
   "cell_type": "markdown",
   "id": "bd29f2c2",
   "metadata": {},
   "source": [
    "## Dog Demo"
   ]
  },
  {
   "cell_type": "code",
   "execution_count": 6,
   "id": "d2243590",
   "metadata": {},
   "outputs": [
    {
     "name": "stdout",
     "output_type": "stream",
     "text": [
      " Dog Class \n",
      "Buddy says: Woof!\n",
      "Luna says: Woof!\n"
     ]
    }
   ],
   "source": [
    "print(\" Dog Class \")\n",
    "dog1 = Dog(\"Buddy\", \"Golden Retriever\", 3)\n",
    "dog2 = Dog(\"Luna\", \"Beagle\", 2)\n",
    "dog1.bark()\n",
    "dog2.bark()"
   ]
  },
  {
   "cell_type": "markdown",
   "id": "bdf58f1e",
   "metadata": {},
   "source": [
    "## Circle Demo"
   ]
  },
  {
   "cell_type": "code",
   "execution_count": 7,
   "id": "c1adcf49",
   "metadata": {},
   "outputs": [
    {
     "name": "stdout",
     "output_type": "stream",
     "text": [
      " Circle Class \n",
      "Area: 78.53981633974483\n",
      "Perimeter: 31.41592653589793\n"
     ]
    }
   ],
   "source": [
    "print(\" Circle Class \")\n",
    "circle = Circle(5)\n",
    "print(\"Area:\", circle.area())\n",
    "print(\"Perimeter:\", circle.perimeter())"
   ]
  },
  {
   "cell_type": "markdown",
   "id": "99e57c2b",
   "metadata": {},
   "source": [
    "## Animal inheritance Demo"
   ]
  },
  {
   "cell_type": "code",
   "execution_count": 8,
   "id": "f4065254",
   "metadata": {},
   "outputs": [
    {
     "name": "stdout",
     "output_type": "stream",
     "text": [
      " Animal Class \n",
      "Whiskers says: Meow!\n",
      "Tweety says: Chirp!\n"
     ]
    }
   ],
   "source": [
    "print(\" Animal Class \")\n",
    "cat = Cat(\"Whiskers\")\n",
    "bird = Bird(\"Tweety\")\n",
    "cat.speak()\n",
    "bird.speak()\n"
   ]
  },
  {
   "cell_type": "markdown",
   "id": "1e16c560",
   "metadata": {},
   "source": [
    "## Abstract shape Demo"
   ]
  },
  {
   "cell_type": "code",
   "execution_count": 9,
   "id": "62fa7aea",
   "metadata": {},
   "outputs": [
    {
     "name": "stdout",
     "output_type": "stream",
     "text": [
      " Abstract Shape \n",
      "Area: 20\n",
      "Area: 9.0\n"
     ]
    }
   ],
   "source": [
    "print(\" Abstract Shape \")\n",
    "def print_area(shape):\n",
    "    print(f\"Area: {shape.area()}\")\n",
    "\n",
    "rect = Rectangle(4, 5)\n",
    "tri = Triangle(6, 3)\n",
    "print_area(rect)\n",
    "print_area(tri)\n"
   ]
  },
  {
   "cell_type": "markdown",
   "id": "99f60ecb",
   "metadata": {},
   "source": [
    "## Temperature Demo\n"
   ]
  },
  {
   "cell_type": "code",
   "execution_count": 10,
   "id": "f3bed60b",
   "metadata": {},
   "outputs": [
    {
     "name": "stdout",
     "output_type": "stream",
     "text": [
      " Temperature Class \n",
      "Celsius: 25\n",
      "Fahrenheit: 77.0\n",
      "Updated Celsius: 100\n",
      "Updated Fahrenheit: 212.0\n"
     ]
    }
   ],
   "source": [
    "print(\" Temperature Class \")\n",
    "temp = Temperature(25)\n",
    "print(\"Celsius:\", temp.celsius)\n",
    "print(\"Fahrenheit:\", temp.get_fahrenheit())\n",
    "temp.celsius = 100\n",
    "print(\"Updated Celsius:\", temp.celsius)\n",
    "print(\"Updated Fahrenheit:\", temp.get_fahrenheit())\n"
   ]
  },
  {
   "cell_type": "markdown",
   "id": "3f8e0137",
   "metadata": {},
   "source": [
    "## ElectricCar Demo"
   ]
  },
  {
   "cell_type": "code",
   "execution_count": 11,
   "id": "57affbb3",
   "metadata": {},
   "outputs": [
    {
     "name": "stdout",
     "output_type": "stream",
     "text": [
      " ElectricCar Class \n",
      "Engine started.\n",
      "Charging... Battery at 85%\n"
     ]
    }
   ],
   "source": [
    "print(\" ElectricCar Class \")\n",
    "ecar = ElectricCar(120, 85)\n",
    "ecar.start_engine()\n",
    "ecar.charge()"
   ]
  }
 ],
 "metadata": {
  "kernelspec": {
   "display_name": "Python 3",
   "language": "python",
   "name": "python3"
  },
  "language_info": {
   "codemirror_mode": {
    "name": "ipython",
    "version": 3
   },
   "file_extension": ".py",
   "mimetype": "text/x-python",
   "name": "python",
   "nbconvert_exporter": "python",
   "pygments_lexer": "ipython3",
   "version": "3.12.3"
  }
 },
 "nbformat": 4,
 "nbformat_minor": 5
}
