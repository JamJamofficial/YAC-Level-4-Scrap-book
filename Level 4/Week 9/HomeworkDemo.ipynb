{
 "cells": [
  {
   "cell_type": "markdown",
   "id": "8642b101",
   "metadata": {},
   "source": [
    "## Importing modules\n",
    "Demonstration of importing classes and method froms other python files homework"
   ]
  },
  {
   "cell_type": "code",
   "execution_count": null,
   "id": "b0724418",
   "metadata": {},
   "outputs": [],
   "source": [
    "# Import all modules\n",
    "from Dog import Dog\n",
    "from Circle import Circle\n",
    "from Animal import Cat, Bird\n",
    "from AbstractShapes import Rectangle, Triangle\n",
    "from Temperature import Temperature\n",
    "from ElectricCar import ElectricCar"
   ]
  },
  {
   "cell_type": "markdown",
   "id": "bd29f2c2",
   "metadata": {},
   "source": [
    "## Dog Demo"
   ]
  },
  {
   "cell_type": "code",
   "execution_count": null,
   "id": "d2243590",
   "metadata": {},
   "outputs": [
    {
     "name": "stdout",
     "output_type": "stream",
     "text": [
      "---- Dog Class ----\n"
     ]
    },
    {
     "ename": "NameError",
     "evalue": "name 'Dog' is not defined",
     "output_type": "error",
     "traceback": [
      "\u001b[1;31m---------------------------------------------------------------------------\u001b[0m",
      "\u001b[1;31mNameError\u001b[0m                                 Traceback (most recent call last)",
      "Cell \u001b[1;32mIn[2], line 2\u001b[0m\n\u001b[0;32m      1\u001b[0m \u001b[38;5;28mprint\u001b[39m(\u001b[38;5;124m\"\u001b[39m\u001b[38;5;124m---- Dog Class ----\u001b[39m\u001b[38;5;124m\"\u001b[39m)\n\u001b[1;32m----> 2\u001b[0m dog1 \u001b[38;5;241m=\u001b[39m \u001b[43mDog\u001b[49m(\u001b[38;5;124m\"\u001b[39m\u001b[38;5;124mBuddy\u001b[39m\u001b[38;5;124m\"\u001b[39m, \u001b[38;5;124m\"\u001b[39m\u001b[38;5;124mGolden Retriever\u001b[39m\u001b[38;5;124m\"\u001b[39m, \u001b[38;5;241m3\u001b[39m)\n\u001b[0;32m      3\u001b[0m dog2 \u001b[38;5;241m=\u001b[39m Dog(\u001b[38;5;124m\"\u001b[39m\u001b[38;5;124mLuna\u001b[39m\u001b[38;5;124m\"\u001b[39m, \u001b[38;5;124m\"\u001b[39m\u001b[38;5;124mBeagle\u001b[39m\u001b[38;5;124m\"\u001b[39m, \u001b[38;5;241m2\u001b[39m)\n\u001b[0;32m      4\u001b[0m dog1\u001b[38;5;241m.\u001b[39mbark()\n",
      "\u001b[1;31mNameError\u001b[0m: name 'Dog' is not defined"
     ]
    }
   ],
   "source": [
    "print(\" Dog Class \")\n",
    "dog1 = Dog(\"Buddy\", \"Golden Retriever\", 3)\n",
    "dog2 = Dog(\"Luna\", \"Beagle\", 2)\n",
    "dog1.bark()\n",
    "dog2.bark()"
   ]
  },
  {
   "cell_type": "markdown",
   "id": "bdf58f1e",
   "metadata": {},
   "source": [
    "## Circle Demo"
   ]
  },
  {
   "cell_type": "code",
   "execution_count": null,
   "id": "c1adcf49",
   "metadata": {},
   "outputs": [
    {
     "name": "stdout",
     "output_type": "stream",
     "text": [
      "\n",
      "---- Circle Class ----\n"
     ]
    },
    {
     "ename": "NameError",
     "evalue": "name 'Circle' is not defined",
     "output_type": "error",
     "traceback": [
      "\u001b[1;31m---------------------------------------------------------------------------\u001b[0m",
      "\u001b[1;31mNameError\u001b[0m                                 Traceback (most recent call last)",
      "Cell \u001b[1;32mIn[3], line 2\u001b[0m\n\u001b[0;32m      1\u001b[0m \u001b[38;5;28mprint\u001b[39m(\u001b[38;5;124m\"\u001b[39m\u001b[38;5;130;01m\\n\u001b[39;00m\u001b[38;5;124m---- Circle Class ----\u001b[39m\u001b[38;5;124m\"\u001b[39m)\n\u001b[1;32m----> 2\u001b[0m circle \u001b[38;5;241m=\u001b[39m \u001b[43mCircle\u001b[49m(\u001b[38;5;241m5\u001b[39m)\n\u001b[0;32m      3\u001b[0m \u001b[38;5;28mprint\u001b[39m(\u001b[38;5;124m\"\u001b[39m\u001b[38;5;124mArea:\u001b[39m\u001b[38;5;124m\"\u001b[39m, circle\u001b[38;5;241m.\u001b[39marea())\n\u001b[0;32m      4\u001b[0m \u001b[38;5;28mprint\u001b[39m(\u001b[38;5;124m\"\u001b[39m\u001b[38;5;124mPerimeter:\u001b[39m\u001b[38;5;124m\"\u001b[39m, circle\u001b[38;5;241m.\u001b[39mperimeter())\n",
      "\u001b[1;31mNameError\u001b[0m: name 'Circle' is not defined"
     ]
    }
   ],
   "source": [
    "print(\" Circle Class \")\n",
    "circle = Circle(5)\n",
    "print(\"Area:\", circle.area())\n",
    "print(\"Perimeter:\", circle.perimeter())"
   ]
  },
  {
   "cell_type": "markdown",
   "id": "99e57c2b",
   "metadata": {},
   "source": [
    "## Animal inheritance Demo"
   ]
  },
  {
   "cell_type": "code",
   "execution_count": null,
   "id": "f4065254",
   "metadata": {},
   "outputs": [
    {
     "name": "stdout",
     "output_type": "stream",
     "text": [
      "\n",
      "---- Animal Class ----\n"
     ]
    },
    {
     "ename": "NameError",
     "evalue": "name 'Cat' is not defined",
     "output_type": "error",
     "traceback": [
      "\u001b[1;31m---------------------------------------------------------------------------\u001b[0m",
      "\u001b[1;31mNameError\u001b[0m                                 Traceback (most recent call last)",
      "Cell \u001b[1;32mIn[4], line 2\u001b[0m\n\u001b[0;32m      1\u001b[0m \u001b[38;5;28mprint\u001b[39m(\u001b[38;5;124m\"\u001b[39m\u001b[38;5;130;01m\\n\u001b[39;00m\u001b[38;5;124m---- Animal Class ----\u001b[39m\u001b[38;5;124m\"\u001b[39m)\n\u001b[1;32m----> 2\u001b[0m cat \u001b[38;5;241m=\u001b[39m \u001b[43mCat\u001b[49m(\u001b[38;5;124m\"\u001b[39m\u001b[38;5;124mWhiskers\u001b[39m\u001b[38;5;124m\"\u001b[39m)\n\u001b[0;32m      3\u001b[0m bird \u001b[38;5;241m=\u001b[39m Bird(\u001b[38;5;124m\"\u001b[39m\u001b[38;5;124mTweety\u001b[39m\u001b[38;5;124m\"\u001b[39m)\n\u001b[0;32m      4\u001b[0m cat\u001b[38;5;241m.\u001b[39mspeak()\n",
      "\u001b[1;31mNameError\u001b[0m: name 'Cat' is not defined"
     ]
    }
   ],
   "source": [
    "print(\" Animal Class \")\n",
    "cat = Cat(\"Whiskers\")\n",
    "bird = Bird(\"Tweety\")\n",
    "cat.speak()\n",
    "bird.speak()\n"
   ]
  },
  {
   "cell_type": "markdown",
   "id": "1e16c560",
   "metadata": {},
   "source": [
    "## Abstract shape Demo"
   ]
  },
  {
   "cell_type": "code",
   "execution_count": null,
   "id": "62fa7aea",
   "metadata": {},
   "outputs": [],
   "source": [
    "print(\" Abstract Shape \")\n",
    "def print_area(shape):\n",
    "    print(f\"Area: {shape.area()}\")\n",
    "\n",
    "rect = Rectangle(4, 5)\n",
    "tri = Triangle(6, 3)\n",
    "print_area(rect)\n",
    "print_area(tri)\n"
   ]
  },
  {
   "cell_type": "markdown",
   "id": "99f60ecb",
   "metadata": {},
   "source": [
    "## Temperature Demo\n"
   ]
  },
  {
   "cell_type": "code",
   "execution_count": null,
   "id": "f3bed60b",
   "metadata": {},
   "outputs": [],
   "source": [
    "print(\" Temperature Class \")\n",
    "temp = Temperature(25)\n",
    "print(\"Celsius:\", temp.celsius)\n",
    "print(\"Fahrenheit:\", temp.get_fahrenheit())\n",
    "temp.celsius = 100\n",
    "print(\"Updated Celsius:\", temp.celsius)\n",
    "print(\"Updated Fahrenheit:\", temp.get_fahrenheit())\n"
   ]
  },
  {
   "cell_type": "markdown",
   "id": "3f8e0137",
   "metadata": {},
   "source": [
    "## ElectricCar Demo"
   ]
  },
  {
   "cell_type": "code",
   "execution_count": null,
   "id": "57affbb3",
   "metadata": {},
   "outputs": [],
   "source": [
    "print(\" ElectricCar Class \")\n",
    "ecar = ElectricCar(120, 85)\n",
    "ecar.start_engine()\n",
    "ecar.charge()"
   ]
  }
 ],
 "metadata": {
  "kernelspec": {
   "display_name": "Python 3",
   "language": "python",
   "name": "python3"
  },
  "language_info": {
   "codemirror_mode": {
    "name": "ipython",
    "version": 3
   },
   "file_extension": ".py",
   "mimetype": "text/x-python",
   "name": "python",
   "nbconvert_exporter": "python",
   "pygments_lexer": "ipython3",
   "version": "3.12.3"
  }
 },
 "nbformat": 4,
 "nbformat_minor": 5
}
