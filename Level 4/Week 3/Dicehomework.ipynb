{
 "cells": [
  {
   "cell_type": "code",
   "execution_count": null,
   "metadata": {},
   "outputs": [],
   "source": []
  },
  {
   "cell_type": "code",
   "execution_count": null,
   "metadata": {},
   "outputs": [],
   "source": [
    "import numpy as np\n",
    "\n",
    "# Dice Simulation\n",
    "num_rolls = 9_000_000_000  \n",
    "average_roll = 3.5\n",
    "total_score = num_rolls * average_roll\n",
    "print(f\"Estimated total score for {num_rolls} dice rolls: {total_score}\")\n",
    "\n",
    "# Student Scores\n",
    "student_scores = [34, 56, 98, 90, 56, 78, 45, 87, 67, 90, 30, 78, 90, 65, 76, 89, 43, 34, 56, 34, 43, 54, 65, 37, 87, 89, 9, 23, 45, 67, 89, 87, 98, 34, 76, 98, 79, 86, 59, 54, 68, 34, 56, 78, 98, 9, 45, 76, 87, 97, 32, 38, 98, 65, 77, 76, 98, 57, 76, 87, 98, 43, 65, 78, 10, 99, 89, 98, 79, 96, 94, 76, 87, 98, 90, 45, 32, 54, 65, 87, 98, 54, 76, 87, 98, 67, 86, 98, 34, 54, 65, 76, 67, 23]\n",
    "\n",
    "# Analysis\n",
    "highest_score = max(student_scores)\n",
    "lowest_score = min(student_scores)\n",
    "average_score = np.mean(student_scores)\n",
    "median_score = np.median(student_scores)\n",
    "\n",
    "print(f\"Highest score: {highest_score}\")\n",
    "print(f\"Lowest score: {lowest_score}\")\n",
    "print(f\"Average score: {average_score:.2f}\")\n",
    "print(f\"Median score: {median_score:.2f}\")\n",
    "\n",
    "# Pass/Fail\n",
    "pass_mark = 50\n",
    "passed = len([score for score in student_scores if score >= pass_mark])\n",
    "failed = len(student_scores) - passed\n",
    "print(f\"Number of students passed: {passed}\")\n",
    "print(f\"Number of students failed: {failed}\")\n",
    "\n",
    "# Additional Passing\n",
    "additional_passing = round(0.05 * failed)\n",
    "print(f\"Additional students passing after grace: {additional_passing}\")\n",
    "\n",
    "# Reshaping a 2D Matrix\n",
    "matrix = np.array([[1, 2, 3, 4, 5],\n",
    "                  [6, 7, 8, 9, 10],\n",
    "                  [11, 12, 13, 14, 15],\n",
    "                  [16, 17, 18, 19, 20]])\n",
    "\n",
    "reshaped_matrix = matrix.reshape(2, 10)\n",
    "print(\"Reshaped Matrix:\\n\", reshaped_matrix)\n"
   ]
  }
 ],
 "metadata": {
  "kernelspec": {
   "display_name": "Python 3",
   "language": "python",
   "name": "python3"
  },
  "language_info": {
   "codemirror_mode": {
    "name": "ipython",
    "version": 3
   },
   "file_extension": ".py",
   "mimetype": "text/x-python",
   "name": "python",
   "nbconvert_exporter": "python",
   "pygments_lexer": "ipython3",
   "version": "3.12.3"
  }
 },
 "nbformat": 4,
 "nbformat_minor": 2
}
