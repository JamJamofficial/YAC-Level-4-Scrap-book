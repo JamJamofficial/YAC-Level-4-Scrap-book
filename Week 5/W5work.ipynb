{
 "cells": [
  {
   "cell_type": "code",
   "execution_count": 1,
   "metadata": {},
   "outputs": [
    {
     "name": "stdout",
     "output_type": "stream",
     "text": [
      "Dice rolls: [2 3 6 ... 4 3 4]\n",
      "Total roll: 3501394\n",
      "1000000\n"
     ]
    }
   ],
   "source": [
    "import numpy as np\n",
    "\n",
    "dice_rolls = np.random.randint(1, 7, size=1000000)\n",
    "print(\"Dice rolls:\", dice_rolls)\n",
    "print(\"Total roll:\", np.sum(dice_rolls))\n",
    "print(len(dice_rolls))"
   ]
  },
  {
   "cell_type": "code",
   "execution_count": null,
   "metadata": {},
   "outputs": [],
   "source": [
    "dice_rolls = np.random.randint(1, 7, size=1000000000)\n",
    "\n",
    "size = 0\n",
    "for i in range(0, len(dice_rolls)):\n",
    "        size += i \n",
    "print(\"Number of sixes:\", size)"
   ]
  }
 ],
 "metadata": {
  "kernelspec": {
   "display_name": "Python 3",
   "language": "python",
   "name": "python3"
  },
  "language_info": {
   "codemirror_mode": {
    "name": "ipython",
    "version": 3
   },
   "file_extension": ".py",
   "mimetype": "text/x-python",
   "name": "python",
   "nbconvert_exporter": "python",
   "pygments_lexer": "ipython3",
   "version": "3.12.3"
  }
 },
 "nbformat": 4,
 "nbformat_minor": 2
}
