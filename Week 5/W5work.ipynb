{
 "cells": [
  {
   "cell_type": "code",
   "execution_count": null,
   "metadata": {},
   "outputs": [
    {
     "name": "stdout",
     "output_type": "stream",
     "text": [
      "Dice rolls: [2 3 6 ... 4 3 4]\n",
      "Total roll: 3501394\n",
      "1000000\n"
     ]
    }
   ],
   "source": [
    "import numpy as np  \n",
    "\n",
    "dice_rolls = np.random.randint(1, 7, size=1000000)\n",
    "print(\"Dice rolls:\", dice_rolls)\n",
    "print(\"Total roll:\", np.sum(dice_rolls))\n",
    "print(len(dice_rolls))"
   ]
  },
  {
   "cell_type": "code",
   "execution_count": 3,
   "metadata": {},
   "outputs": [
    {
     "name": "stdout",
     "output_type": "stream",
     "text": [
      "Number of sixes: 499999999500000000\n"
     ]
    }
   ],
   "source": [
    "dice_rolls = np.random.randint(1, 7, size=1000000000)\n",
    "\n",
    "size = 0\n",
    "for i in range(0, len(dice_rolls)):\n",
    "        size += i \n",
    "print(\"Number of sixes:\", size)"
   ]
  },
  {
   "cell_type": "code",
   "execution_count": 4,
   "metadata": {},
   "outputs": [
    {
     "name": "stdout",
     "output_type": "stream",
     "text": [
      "[1 2 3 4 5 6]\n"
     ]
    }
   ],
   "source": [
    "arr = np.array([1, 2, 3, 4, 5, 6])\n",
    "\n",
    "indices = np.array([0, 1, 2, 3, 4, 5])\n",
    "print(arr[indices])\n"
   ]
  },
  {
   "cell_type": "markdown",
   "metadata": {},
   "source": [
    "Masked Arrays"
   ]
  },
  {
   "cell_type": "code",
   "execution_count": 6,
   "metadata": {},
   "outputs": [
    {
     "name": "stdout",
     "output_type": "stream",
     "text": [
      "Masked Array: [1 2 3 -- 5 6]\n"
     ]
    }
   ],
   "source": [
    "import numpy as np\n",
    "\n",
    "arr = np.array([1, 2, 3, -4, 5, 6])\n",
    "\n",
    "masked_arr = np.ma.masked_where(arr < 0, arr)\n",
    "\n",
    "print(\"Masked Array:\", masked_arr)"
   ]
  }
 ],
 "metadata": {
  "kernelspec": {
   "display_name": "Python 3",
   "language": "python",
   "name": "python3"
  },
  "language_info": {
   "codemirror_mode": {
    "name": "ipython",
    "version": 3
   },
   "file_extension": ".py",
   "mimetype": "text/x-python",
   "name": "python",
   "nbconvert_exporter": "python",
   "pygments_lexer": "ipython3",
   "version": "3.12.3"
  }
 },
 "nbformat": 4,
 "nbformat_minor": 2
}
